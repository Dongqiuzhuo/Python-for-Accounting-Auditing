{
 "cells": [
  {
   "cell_type": "code",
   "execution_count": 1,
   "metadata": {},
   "outputs": [],
   "source": [
    "import pandas as pd\n",
    "import numpy as np"
   ]
  },
  {
   "cell_type": "code",
   "execution_count": 2,
   "metadata": {},
   "outputs": [],
   "source": [
    "df = pd.read_csv('stock_comments_analyzed.csv', parse_dates=['created_time'])\n",
    "grouped = df['polarity'].groupby(df.created_time.dt.date)"
   ]
  },
  {
   "cell_type": "code",
   "execution_count": 3,
   "metadata": {},
   "outputs": [
    {
     "data": {
      "text/html": [
       "<div>\n",
       "<style scoped>\n",
       "    .dataframe tbody tr th:only-of-type {\n",
       "        vertical-align: middle;\n",
       "    }\n",
       "\n",
       "    .dataframe tbody tr th {\n",
       "        vertical-align: top;\n",
       "    }\n",
       "\n",
       "    .dataframe thead th {\n",
       "        text-align: right;\n",
       "    }\n",
       "</style>\n",
       "<table border=\"1\" class=\"dataframe\">\n",
       "  <thead>\n",
       "    <tr style=\"text-align: right;\">\n",
       "      <th></th>\n",
       "      <th>created_time</th>\n",
       "      <th>title</th>\n",
       "      <th>polarity</th>\n",
       "    </tr>\n",
       "  </thead>\n",
       "  <tbody>\n",
       "    <tr>\n",
       "      <th>464226</th>\n",
       "      <td>2020-10-17 06:10:00</td>\n",
       "      <td>外围 昨天 向上 美股 欧股 股市 涨跌 暴涨</td>\n",
       "      <td>1</td>\n",
       "    </tr>\n",
       "    <tr>\n",
       "      <th>464227</th>\n",
       "      <td>2020-10-17 06:10:00</td>\n",
       "      <td>满仓 龙头 干 券商 怂 国联 证券</td>\n",
       "      <td>1</td>\n",
       "    </tr>\n",
       "    <tr>\n",
       "      <th>464228</th>\n",
       "      <td>2020-10-17 06:06:00</td>\n",
       "      <td>突破 前高 下周 逼空 行情</td>\n",
       "      <td>0</td>\n",
       "    </tr>\n",
       "    <tr>\n",
       "      <th>464229</th>\n",
       "      <td>2020-10-17 05:33:00</td>\n",
       "      <td>十年 真的 观天象 夜 满仓 干 怂 牛市 轮</td>\n",
       "      <td>1</td>\n",
       "    </tr>\n",
       "    <tr>\n",
       "      <th>464230</th>\n",
       "      <td>2020-10-17 05:29:00</td>\n",
       "      <td>洞悉 资 先于 股 必读 汇总   数据 市场 操盘 主力 看股</td>\n",
       "      <td>0</td>\n",
       "    </tr>\n",
       "  </tbody>\n",
       "</table>\n",
       "</div>"
      ],
      "text/plain": [
       "              created_time                             title  polarity\n",
       "464226 2020-10-17 06:10:00           外围 昨天 向上 美股 欧股 股市 涨跌 暴涨         1\n",
       "464227 2020-10-17 06:10:00                满仓 龙头 干 券商 怂 国联 证券         1\n",
       "464228 2020-10-17 06:06:00                    突破 前高 下周 逼空 行情         0\n",
       "464229 2020-10-17 05:33:00           十年 真的 观天象 夜 满仓 干 怂 牛市 轮         1\n",
       "464230 2020-10-17 05:29:00  洞悉 资 先于 股 必读 汇总   数据 市场 操盘 主力 看股         0"
      ]
     },
     "execution_count": 3,
     "metadata": {},
     "output_type": "execute_result"
    }
   ],
   "source": [
    "df.tail()"
   ]
  },
  {
   "cell_type": "code",
   "execution_count": 4,
   "metadata": {},
   "outputs": [],
   "source": [
    "def BI_Simple_func(row):\n",
    "    pos = row[row == 1].count()\n",
    "    neg = row[row == 0].count()\n",
    "\n",
    "    return (pos-neg)/(pos+neg)"
   ]
  },
  {
   "cell_type": "code",
   "execution_count": 5,
   "metadata": {},
   "outputs": [],
   "source": [
    "BI_Simple_index = grouped.apply(BI_Simple_func)"
   ]
  },
  {
   "cell_type": "code",
   "execution_count": 6,
   "metadata": {},
   "outputs": [
    {
     "data": {
      "text/plain": [
       "created_time\n",
       "2020-10-17    0.159091\n",
       "2020-10-18    0.163498\n",
       "2020-10-19   -0.150339\n",
       "2020-10-20   -0.087477\n",
       "2020-10-21   -0.133661\n",
       "Name: polarity, dtype: float64"
      ]
     },
     "execution_count": 6,
     "metadata": {},
     "output_type": "execute_result"
    }
   ],
   "source": [
    "BI_Simple_index.head()"
   ]
  },
  {
   "cell_type": "code",
   "execution_count": 7,
   "metadata": {},
   "outputs": [],
   "source": [
    "def BI_func(row):\n",
    "    pos = row[row == 1].count()\n",
    "    neg = row[row == 0].count()\n",
    "\n",
    "    bi = np.log(1.0 * (1+pos) / (1+neg))\n",
    "\n",
    "    return bi"
   ]
  },
  {
   "cell_type": "code",
   "execution_count": 8,
   "metadata": {},
   "outputs": [],
   "source": [
    "BI_index = grouped.apply(BI_func)"
   ]
  },
  {
   "cell_type": "code",
   "execution_count": 9,
   "metadata": {},
   "outputs": [
    {
     "data": {
      "text/plain": [
       "created_time\n",
       "2020-10-17    0.319064\n",
       "2020-10-18    0.328685\n",
       "2020-10-19   -0.302835\n",
       "2020-10-20   -0.175275\n",
       "2020-10-21   -0.268797\n",
       "Name: polarity, dtype: float64"
      ]
     },
     "execution_count": 9,
     "metadata": {},
     "output_type": "execute_result"
    }
   ],
   "source": [
    "BI_index.head()"
   ]
  },
  {
   "cell_type": "code",
   "execution_count": 10,
   "metadata": {},
   "outputs": [],
   "source": [
    "sentiment_idx = pd.concat([BI_index.rename('BI'), BI_Simple_index.rename('BI_Simple')], axis=1)"
   ]
  },
  {
   "cell_type": "code",
   "execution_count": 11,
   "metadata": {},
   "outputs": [
    {
     "data": {
      "text/html": [
       "<div>\n",
       "<style scoped>\n",
       "    .dataframe tbody tr th:only-of-type {\n",
       "        vertical-align: middle;\n",
       "    }\n",
       "\n",
       "    .dataframe tbody tr th {\n",
       "        vertical-align: top;\n",
       "    }\n",
       "\n",
       "    .dataframe thead th {\n",
       "        text-align: right;\n",
       "    }\n",
       "</style>\n",
       "<table border=\"1\" class=\"dataframe\">\n",
       "  <thead>\n",
       "    <tr style=\"text-align: right;\">\n",
       "      <th></th>\n",
       "      <th>BI</th>\n",
       "      <th>BI_Simple</th>\n",
       "    </tr>\n",
       "    <tr>\n",
       "      <th>created_time</th>\n",
       "      <th></th>\n",
       "      <th></th>\n",
       "    </tr>\n",
       "  </thead>\n",
       "  <tbody>\n",
       "    <tr>\n",
       "      <th>2020-10-17</th>\n",
       "      <td>0.319064</td>\n",
       "      <td>0.159091</td>\n",
       "    </tr>\n",
       "    <tr>\n",
       "      <th>2020-10-18</th>\n",
       "      <td>0.328685</td>\n",
       "      <td>0.163498</td>\n",
       "    </tr>\n",
       "    <tr>\n",
       "      <th>2020-10-19</th>\n",
       "      <td>-0.302835</td>\n",
       "      <td>-0.150339</td>\n",
       "    </tr>\n",
       "    <tr>\n",
       "      <th>2020-10-20</th>\n",
       "      <td>-0.175275</td>\n",
       "      <td>-0.087477</td>\n",
       "    </tr>\n",
       "    <tr>\n",
       "      <th>2020-10-21</th>\n",
       "      <td>-0.268797</td>\n",
       "      <td>-0.133661</td>\n",
       "    </tr>\n",
       "  </tbody>\n",
       "</table>\n",
       "</div>"
      ],
      "text/plain": [
       "                    BI  BI_Simple\n",
       "created_time                     \n",
       "2020-10-17    0.319064   0.159091\n",
       "2020-10-18    0.328685   0.163498\n",
       "2020-10-19   -0.302835  -0.150339\n",
       "2020-10-20   -0.175275  -0.087477\n",
       "2020-10-21   -0.268797  -0.133661"
      ]
     },
     "execution_count": 11,
     "metadata": {},
     "output_type": "execute_result"
    }
   ],
   "source": [
    "sentiment_idx.head()"
   ]
  },
  {
   "cell_type": "code",
   "execution_count": 12,
   "metadata": {},
   "outputs": [],
   "source": [
    "quotes = pd.read_csv('./data/sh000001.csv', parse_dates=['date'])\n",
    "quotes.set_index('date', inplace=True)"
   ]
  },
  {
   "cell_type": "code",
   "execution_count": 13,
   "metadata": {},
   "outputs": [
    {
     "data": {
      "text/html": [
       "<div>\n",
       "<style scoped>\n",
       "    .dataframe tbody tr th:only-of-type {\n",
       "        vertical-align: middle;\n",
       "    }\n",
       "\n",
       "    .dataframe tbody tr th {\n",
       "        vertical-align: top;\n",
       "    }\n",
       "\n",
       "    .dataframe thead th {\n",
       "        text-align: right;\n",
       "    }\n",
       "</style>\n",
       "<table border=\"1\" class=\"dataframe\">\n",
       "  <thead>\n",
       "    <tr style=\"text-align: right;\">\n",
       "      <th></th>\n",
       "      <th>open</th>\n",
       "      <th>high</th>\n",
       "      <th>low</th>\n",
       "      <th>close</th>\n",
       "      <th>volume</th>\n",
       "    </tr>\n",
       "    <tr>\n",
       "      <th>date</th>\n",
       "      <th></th>\n",
       "      <th></th>\n",
       "      <th></th>\n",
       "      <th></th>\n",
       "      <th></th>\n",
       "    </tr>\n",
       "  </thead>\n",
       "  <tbody>\n",
       "    <tr>\n",
       "      <th>2020-10-19</th>\n",
       "      <td>3351.10</td>\n",
       "      <td>3371.09</td>\n",
       "      <td>3307.84</td>\n",
       "      <td>3312.67</td>\n",
       "      <td>21230354000</td>\n",
       "    </tr>\n",
       "    <tr>\n",
       "      <th>2020-10-20</th>\n",
       "      <td>3307.15</td>\n",
       "      <td>3328.10</td>\n",
       "      <td>3293.77</td>\n",
       "      <td>3328.10</td>\n",
       "      <td>16508476200</td>\n",
       "    </tr>\n",
       "    <tr>\n",
       "      <th>2020-10-21</th>\n",
       "      <td>3332.15</td>\n",
       "      <td>3332.15</td>\n",
       "      <td>3304.17</td>\n",
       "      <td>3325.02</td>\n",
       "      <td>17763211500</td>\n",
       "    </tr>\n",
       "    <tr>\n",
       "      <th>2020-10-22</th>\n",
       "      <td>3315.82</td>\n",
       "      <td>3320.88</td>\n",
       "      <td>3281.37</td>\n",
       "      <td>3312.50</td>\n",
       "      <td>16594998700</td>\n",
       "    </tr>\n",
       "    <tr>\n",
       "      <th>2020-10-23</th>\n",
       "      <td>3308.16</td>\n",
       "      <td>3326.05</td>\n",
       "      <td>3276.62</td>\n",
       "      <td>3278.00</td>\n",
       "      <td>17420898200</td>\n",
       "    </tr>\n",
       "  </tbody>\n",
       "</table>\n",
       "</div>"
      ],
      "text/plain": [
       "               open     high      low    close       volume\n",
       "date                                                       \n",
       "2020-10-19  3351.10  3371.09  3307.84  3312.67  21230354000\n",
       "2020-10-20  3307.15  3328.10  3293.77  3328.10  16508476200\n",
       "2020-10-21  3332.15  3332.15  3304.17  3325.02  17763211500\n",
       "2020-10-22  3315.82  3320.88  3281.37  3312.50  16594998700\n",
       "2020-10-23  3308.16  3326.05  3276.62  3278.00  17420898200"
      ]
     },
     "execution_count": 13,
     "metadata": {},
     "output_type": "execute_result"
    }
   ],
   "source": [
    "quotes.head()"
   ]
  },
  {
   "cell_type": "code",
   "execution_count": 14,
   "metadata": {},
   "outputs": [],
   "source": [
    "sentiment_idx.index = pd.to_datetime(sentiment_idx.index)\n",
    "merged = pd.merge(sentiment_idx, quotes, how='left', left_index=True, right_index=True)"
   ]
  },
  {
   "cell_type": "code",
   "execution_count": 15,
   "metadata": {},
   "outputs": [
    {
     "data": {
      "text/html": [
       "<div>\n",
       "<style scoped>\n",
       "    .dataframe tbody tr th:only-of-type {\n",
       "        vertical-align: middle;\n",
       "    }\n",
       "\n",
       "    .dataframe tbody tr th {\n",
       "        vertical-align: top;\n",
       "    }\n",
       "\n",
       "    .dataframe thead th {\n",
       "        text-align: right;\n",
       "    }\n",
       "</style>\n",
       "<table border=\"1\" class=\"dataframe\">\n",
       "  <thead>\n",
       "    <tr style=\"text-align: right;\">\n",
       "      <th></th>\n",
       "      <th>BI</th>\n",
       "      <th>BI_Simple</th>\n",
       "      <th>open</th>\n",
       "      <th>high</th>\n",
       "      <th>low</th>\n",
       "      <th>close</th>\n",
       "      <th>volume</th>\n",
       "    </tr>\n",
       "    <tr>\n",
       "      <th>created_time</th>\n",
       "      <th></th>\n",
       "      <th></th>\n",
       "      <th></th>\n",
       "      <th></th>\n",
       "      <th></th>\n",
       "      <th></th>\n",
       "      <th></th>\n",
       "    </tr>\n",
       "  </thead>\n",
       "  <tbody>\n",
       "    <tr>\n",
       "      <th>2020-10-17</th>\n",
       "      <td>0.319064</td>\n",
       "      <td>0.159091</td>\n",
       "      <td>NaN</td>\n",
       "      <td>NaN</td>\n",
       "      <td>NaN</td>\n",
       "      <td>NaN</td>\n",
       "      <td>NaN</td>\n",
       "    </tr>\n",
       "    <tr>\n",
       "      <th>2020-10-18</th>\n",
       "      <td>0.328685</td>\n",
       "      <td>0.163498</td>\n",
       "      <td>NaN</td>\n",
       "      <td>NaN</td>\n",
       "      <td>NaN</td>\n",
       "      <td>NaN</td>\n",
       "      <td>NaN</td>\n",
       "    </tr>\n",
       "    <tr>\n",
       "      <th>2020-10-19</th>\n",
       "      <td>-0.302835</td>\n",
       "      <td>-0.150339</td>\n",
       "      <td>3351.10</td>\n",
       "      <td>3371.09</td>\n",
       "      <td>3307.84</td>\n",
       "      <td>3312.67</td>\n",
       "      <td>2.123035e+10</td>\n",
       "    </tr>\n",
       "    <tr>\n",
       "      <th>2020-10-20</th>\n",
       "      <td>-0.175275</td>\n",
       "      <td>-0.087477</td>\n",
       "      <td>3307.15</td>\n",
       "      <td>3328.10</td>\n",
       "      <td>3293.77</td>\n",
       "      <td>3328.10</td>\n",
       "      <td>1.650848e+10</td>\n",
       "    </tr>\n",
       "    <tr>\n",
       "      <th>2020-10-21</th>\n",
       "      <td>-0.268797</td>\n",
       "      <td>-0.133661</td>\n",
       "      <td>3332.15</td>\n",
       "      <td>3332.15</td>\n",
       "      <td>3304.17</td>\n",
       "      <td>3325.02</td>\n",
       "      <td>1.776321e+10</td>\n",
       "    </tr>\n",
       "  </tbody>\n",
       "</table>\n",
       "</div>"
      ],
      "text/plain": [
       "                    BI  BI_Simple     open     high      low    close  \\\n",
       "created_time                                                            \n",
       "2020-10-17    0.319064   0.159091      NaN      NaN      NaN      NaN   \n",
       "2020-10-18    0.328685   0.163498      NaN      NaN      NaN      NaN   \n",
       "2020-10-19   -0.302835  -0.150339  3351.10  3371.09  3307.84  3312.67   \n",
       "2020-10-20   -0.175275  -0.087477  3307.15  3328.10  3293.77  3328.10   \n",
       "2020-10-21   -0.268797  -0.133661  3332.15  3332.15  3304.17  3325.02   \n",
       "\n",
       "                    volume  \n",
       "created_time                \n",
       "2020-10-17             NaN  \n",
       "2020-10-18             NaN  \n",
       "2020-10-19    2.123035e+10  \n",
       "2020-10-20    1.650848e+10  \n",
       "2020-10-21    1.776321e+10  "
      ]
     },
     "execution_count": 15,
     "metadata": {},
     "output_type": "execute_result"
    }
   ],
   "source": [
    "merged.head()"
   ]
  },
  {
   "cell_type": "code",
   "execution_count": 16,
   "metadata": {},
   "outputs": [],
   "source": [
    "merged.fillna(method='ffill', inplace=True)\n",
    "merged['BI_MA'] = merged['BI'].rolling(window=10, center=False).mean()\n",
    "merged['BI_Simple_MA'] = merged['BI_Simple'].rolling(window=10, center=False).mean()"
   ]
  },
  {
   "cell_type": "code",
   "execution_count": 17,
   "metadata": {},
   "outputs": [
    {
     "data": {
      "text/html": [
       "<div>\n",
       "<style scoped>\n",
       "    .dataframe tbody tr th:only-of-type {\n",
       "        vertical-align: middle;\n",
       "    }\n",
       "\n",
       "    .dataframe tbody tr th {\n",
       "        vertical-align: top;\n",
       "    }\n",
       "\n",
       "    .dataframe thead th {\n",
       "        text-align: right;\n",
       "    }\n",
       "</style>\n",
       "<table border=\"1\" class=\"dataframe\">\n",
       "  <thead>\n",
       "    <tr style=\"text-align: right;\">\n",
       "      <th></th>\n",
       "      <th>BI</th>\n",
       "      <th>BI_Simple</th>\n",
       "      <th>open</th>\n",
       "      <th>high</th>\n",
       "      <th>low</th>\n",
       "      <th>close</th>\n",
       "      <th>volume</th>\n",
       "      <th>BI_MA</th>\n",
       "      <th>BI_Simple_MA</th>\n",
       "    </tr>\n",
       "    <tr>\n",
       "      <th>created_time</th>\n",
       "      <th></th>\n",
       "      <th></th>\n",
       "      <th></th>\n",
       "      <th></th>\n",
       "      <th></th>\n",
       "      <th></th>\n",
       "      <th></th>\n",
       "      <th></th>\n",
       "      <th></th>\n",
       "    </tr>\n",
       "  </thead>\n",
       "  <tbody>\n",
       "    <tr>\n",
       "      <th>2020-10-17</th>\n",
       "      <td>0.319064</td>\n",
       "      <td>0.159091</td>\n",
       "      <td>NaN</td>\n",
       "      <td>NaN</td>\n",
       "      <td>NaN</td>\n",
       "      <td>NaN</td>\n",
       "      <td>NaN</td>\n",
       "      <td>NaN</td>\n",
       "      <td>NaN</td>\n",
       "    </tr>\n",
       "    <tr>\n",
       "      <th>2020-10-18</th>\n",
       "      <td>0.328685</td>\n",
       "      <td>0.163498</td>\n",
       "      <td>NaN</td>\n",
       "      <td>NaN</td>\n",
       "      <td>NaN</td>\n",
       "      <td>NaN</td>\n",
       "      <td>NaN</td>\n",
       "      <td>NaN</td>\n",
       "      <td>NaN</td>\n",
       "    </tr>\n",
       "    <tr>\n",
       "      <th>2020-10-19</th>\n",
       "      <td>-0.302835</td>\n",
       "      <td>-0.150339</td>\n",
       "      <td>3351.10</td>\n",
       "      <td>3371.09</td>\n",
       "      <td>3307.84</td>\n",
       "      <td>3312.67</td>\n",
       "      <td>2.123035e+10</td>\n",
       "      <td>NaN</td>\n",
       "      <td>NaN</td>\n",
       "    </tr>\n",
       "    <tr>\n",
       "      <th>2020-10-20</th>\n",
       "      <td>-0.175275</td>\n",
       "      <td>-0.087477</td>\n",
       "      <td>3307.15</td>\n",
       "      <td>3328.10</td>\n",
       "      <td>3293.77</td>\n",
       "      <td>3328.10</td>\n",
       "      <td>1.650848e+10</td>\n",
       "      <td>NaN</td>\n",
       "      <td>NaN</td>\n",
       "    </tr>\n",
       "    <tr>\n",
       "      <th>2020-10-21</th>\n",
       "      <td>-0.268797</td>\n",
       "      <td>-0.133661</td>\n",
       "      <td>3332.15</td>\n",
       "      <td>3332.15</td>\n",
       "      <td>3304.17</td>\n",
       "      <td>3325.02</td>\n",
       "      <td>1.776321e+10</td>\n",
       "      <td>NaN</td>\n",
       "      <td>NaN</td>\n",
       "    </tr>\n",
       "  </tbody>\n",
       "</table>\n",
       "</div>"
      ],
      "text/plain": [
       "                    BI  BI_Simple     open     high      low    close  \\\n",
       "created_time                                                            \n",
       "2020-10-17    0.319064   0.159091      NaN      NaN      NaN      NaN   \n",
       "2020-10-18    0.328685   0.163498      NaN      NaN      NaN      NaN   \n",
       "2020-10-19   -0.302835  -0.150339  3351.10  3371.09  3307.84  3312.67   \n",
       "2020-10-20   -0.175275  -0.087477  3307.15  3328.10  3293.77  3328.10   \n",
       "2020-10-21   -0.268797  -0.133661  3332.15  3332.15  3304.17  3325.02   \n",
       "\n",
       "                    volume  BI_MA  BI_Simple_MA  \n",
       "created_time                                     \n",
       "2020-10-17             NaN    NaN           NaN  \n",
       "2020-10-18             NaN    NaN           NaN  \n",
       "2020-10-19    2.123035e+10    NaN           NaN  \n",
       "2020-10-20    1.650848e+10    NaN           NaN  \n",
       "2020-10-21    1.776321e+10    NaN           NaN  "
      ]
     },
     "execution_count": 17,
     "metadata": {},
     "output_type": "execute_result"
    }
   ],
   "source": [
    "merged.head()"
   ]
  },
  {
   "cell_type": "code",
   "execution_count": 18,
   "metadata": {},
   "outputs": [],
   "source": [
    "merged.to_csv('merged_sentiment_idx.csv')"
   ]
  }
 ],
 "metadata": {
  "kernelspec": {
   "display_name": "Python 3",
   "language": "python",
   "name": "python3"
  },
  "language_info": {
   "codemirror_mode": {
    "name": "ipython",
    "version": 3
   },
   "file_extension": ".py",
   "mimetype": "text/x-python",
   "name": "python",
   "nbconvert_exporter": "python",
   "pygments_lexer": "ipython3",
   "version": "3.8.5"
  }
 },
 "nbformat": 4,
 "nbformat_minor": 4
}
