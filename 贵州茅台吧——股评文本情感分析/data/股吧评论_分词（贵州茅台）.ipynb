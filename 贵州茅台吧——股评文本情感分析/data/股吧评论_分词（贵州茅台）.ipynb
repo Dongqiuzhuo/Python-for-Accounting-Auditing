{
 "cells": [
  {
   "cell_type": "code",
   "execution_count": 1,
   "metadata": {
    "collapsed": true
   },
   "outputs": [],
   "source": [
    "import pandas as pd\n",
    "import jieba\n",
    "import re"
   ]
  },
  {
   "cell_type": "code",
   "execution_count": 2,
   "metadata": {
    "collapsed": false
   },
   "outputs": [
    {
     "data": {
      "text/html": [
       "<div>\n",
       "<style scoped>\n",
       "    .dataframe tbody tr th:only-of-type {\n",
       "        vertical-align: middle;\n",
       "    }\n",
       "\n",
       "    .dataframe tbody tr th {\n",
       "        vertical-align: top;\n",
       "    }\n",
       "\n",
       "    .dataframe thead th {\n",
       "        text-align: right;\n",
       "    }\n",
       "</style>\n",
       "<table border=\"1\" class=\"dataframe\">\n",
       "  <thead>\n",
       "    <tr style=\"text-align: right;\">\n",
       "      <th></th>\n",
       "      <th>0</th>\n",
       "      <th>1</th>\n",
       "    </tr>\n",
       "  </thead>\n",
       "  <tbody>\n",
       "    <tr>\n",
       "      <th>0</th>\n",
       "      <td>05-06 08:15</td>\n",
       "      <td>【名博论市】假日多空消息平衡，期望5月开门红</td>\n",
       "    </tr>\n",
       "    <tr>\n",
       "      <th>1</th>\n",
       "      <td>05-06 08:59</td>\n",
       "      <td>贵州：拟持续深化领导干部利用茅台酒谋取私利问题专项</td>\n",
       "    </tr>\n",
       "    <tr>\n",
       "      <th>2</th>\n",
       "      <td>05-05 16:34</td>\n",
       "      <td>税金确认导致利润波动，全年经营稳健长期价</td>\n",
       "    </tr>\n",
       "    <tr>\n",
       "      <th>3</th>\n",
       "      <td>05-06 10:07</td>\n",
       "      <td>茅台又一子公司将谋求IPO  专家：股民反对</td>\n",
       "    </tr>\n",
       "    <tr>\n",
       "      <th>4</th>\n",
       "      <td>05-04 23:33</td>\n",
       "      <td>去年白酒为什么涨了几十倍甚至上百倍？刚开</td>\n",
       "    </tr>\n",
       "  </tbody>\n",
       "</table>\n",
       "</div>"
      ],
      "text/plain": [
       "             0                          1\n",
       "0  05-06 08:15     【名博论市】假日多空消息平衡，期望5月开门红\n",
       "1  05-06 08:59  贵州：拟持续深化领导干部利用茅台酒谋取私利问题专项\n",
       "2  05-05 16:34       税金确认导致利润波动，全年经营稳健长期价\n",
       "3  05-06 10:07     茅台又一子公司将谋求IPO  专家：股民反对\n",
       "4  05-04 23:33       去年白酒为什么涨了几十倍甚至上百倍？刚开"
      ]
     },
     "execution_count": 2,
     "metadata": {},
     "output_type": "execute_result"
    }
   ],
   "source": [
    "comment_maotai = pd.read_excel('comment_maotai_raw.xlsx',index_col = 0)\n",
    "comment_maotai.head()"
   ]
  },
  {
   "cell_type": "code",
   "execution_count": 3,
   "metadata": {
    "collapsed": false
   },
   "outputs": [
    {
     "data": {
      "text/html": [
       "<div>\n",
       "<style scoped>\n",
       "    .dataframe tbody tr th:only-of-type {\n",
       "        vertical-align: middle;\n",
       "    }\n",
       "\n",
       "    .dataframe tbody tr th {\n",
       "        vertical-align: top;\n",
       "    }\n",
       "\n",
       "    .dataframe thead th {\n",
       "        text-align: right;\n",
       "    }\n",
       "</style>\n",
       "<table border=\"1\" class=\"dataframe\">\n",
       "  <thead>\n",
       "    <tr style=\"text-align: right;\">\n",
       "      <th></th>\n",
       "      <th>time</th>\n",
       "      <th>comments</th>\n",
       "    </tr>\n",
       "  </thead>\n",
       "  <tbody>\n",
       "    <tr>\n",
       "      <th>479222</th>\n",
       "      <td>07-14 10:01</td>\n",
       "      <td>珠峰山之巅，高处不胜寒</td>\n",
       "    </tr>\n",
       "    <tr>\n",
       "      <th>479223</th>\n",
       "      <td>07-14 09:58</td>\n",
       "      <td>几分钟涨停？603879永悦科技</td>\n",
       "    </tr>\n",
       "    <tr>\n",
       "      <th>479224</th>\n",
       "      <td>07-14 09:55</td>\n",
       "      <td>600218全柴动力暴涨潜力特大</td>\n",
       "    </tr>\n",
       "    <tr>\n",
       "      <th>479225</th>\n",
       "      <td>07-14 09:54</td>\n",
       "      <td>峰有多高，谷有多深，不信你能涨到天上去。</td>\n",
       "    </tr>\n",
       "    <tr>\n",
       "      <th>479226</th>\n",
       "      <td>07-14 09:47</td>\n",
       "      <td>今年目标预测250[大笑]</td>\n",
       "    </tr>\n",
       "  </tbody>\n",
       "</table>\n",
       "</div>"
      ],
      "text/plain": [
       "               time              comments\n",
       "479222  07-14 10:01           珠峰山之巅，高处不胜寒\n",
       "479223  07-14 09:58      几分钟涨停？603879永悦科技\n",
       "479224  07-14 09:55      600218全柴动力暴涨潜力特大\n",
       "479225  07-14 09:54  峰有多高，谷有多深，不信你能涨到天上去。\n",
       "479226  07-14 09:47         今年目标预测250[大笑]"
      ]
     },
     "execution_count": 3,
     "metadata": {},
     "output_type": "execute_result"
    }
   ],
   "source": [
    "comment_maotai.columns = ['time','comments']\n",
    "comment_maotai.tail()"
   ]
  },
  {
   "cell_type": "code",
   "execution_count": 4,
   "metadata": {
    "collapsed": false
   },
   "outputs": [
    {
     "data": {
      "text/plain": [
       "time        object\n",
       "comments    object\n",
       "dtype: object"
      ]
     },
     "execution_count": 4,
     "metadata": {},
     "output_type": "execute_result"
    }
   ],
   "source": [
    "comment_maotai.dtypes"
   ]
  },
  {
   "cell_type": "code",
   "execution_count": 5,
   "metadata": {
    "collapsed": false
   },
   "outputs": [
    {
     "name": "stdout",
     "output_type": "stream",
     "text": [
      "100.0 % finished\n"
     ]
    }
   ],
   "source": [
    "comment_maotai['year'] = None\n",
    "year = ['2021-','2020-','2019-','2018-','2017-']\n",
    "n = 0\n",
    "for i in range(len(comment_maotai.index)):\n",
    "    mon = int(comment_maotai['time'][i][0:2])\n",
    "    if mon == 1 and mon != int(comment_maotai['time'][i+1][0:2]):\n",
    "        comment_maotai['year'][i] = year[n]\n",
    "        n = n + 1\n",
    "    else:\n",
    "        comment_maotai['year'][i] = year[n]\n",
    "\n",
    "print(round(i/len(comment_maotai.index)*100,2),'% finished')"
   ]
  },
  {
   "cell_type": "code",
   "execution_count": 6,
   "metadata": {
    "collapsed": false
   },
   "outputs": [
    {
     "data": {
      "text/html": [
       "<div>\n",
       "<style scoped>\n",
       "    .dataframe tbody tr th:only-of-type {\n",
       "        vertical-align: middle;\n",
       "    }\n",
       "\n",
       "    .dataframe tbody tr th {\n",
       "        vertical-align: top;\n",
       "    }\n",
       "\n",
       "    .dataframe thead th {\n",
       "        text-align: right;\n",
       "    }\n",
       "</style>\n",
       "<table border=\"1\" class=\"dataframe\">\n",
       "  <thead>\n",
       "    <tr style=\"text-align: right;\">\n",
       "      <th></th>\n",
       "      <th>time</th>\n",
       "      <th>comments</th>\n",
       "      <th>year</th>\n",
       "    </tr>\n",
       "  </thead>\n",
       "  <tbody>\n",
       "    <tr>\n",
       "      <th>479222</th>\n",
       "      <td>07-14 10:01</td>\n",
       "      <td>珠峰山之巅，高处不胜寒</td>\n",
       "      <td>2017-</td>\n",
       "    </tr>\n",
       "    <tr>\n",
       "      <th>479223</th>\n",
       "      <td>07-14 09:58</td>\n",
       "      <td>几分钟涨停？603879永悦科技</td>\n",
       "      <td>2017-</td>\n",
       "    </tr>\n",
       "    <tr>\n",
       "      <th>479224</th>\n",
       "      <td>07-14 09:55</td>\n",
       "      <td>600218全柴动力暴涨潜力特大</td>\n",
       "      <td>2017-</td>\n",
       "    </tr>\n",
       "    <tr>\n",
       "      <th>479225</th>\n",
       "      <td>07-14 09:54</td>\n",
       "      <td>峰有多高，谷有多深，不信你能涨到天上去。</td>\n",
       "      <td>2017-</td>\n",
       "    </tr>\n",
       "    <tr>\n",
       "      <th>479226</th>\n",
       "      <td>07-14 09:47</td>\n",
       "      <td>今年目标预测250[大笑]</td>\n",
       "      <td>2017-</td>\n",
       "    </tr>\n",
       "  </tbody>\n",
       "</table>\n",
       "</div>"
      ],
      "text/plain": [
       "               time              comments   year\n",
       "479222  07-14 10:01           珠峰山之巅，高处不胜寒  2017-\n",
       "479223  07-14 09:58      几分钟涨停？603879永悦科技  2017-\n",
       "479224  07-14 09:55      600218全柴动力暴涨潜力特大  2017-\n",
       "479225  07-14 09:54  峰有多高，谷有多深，不信你能涨到天上去。  2017-\n",
       "479226  07-14 09:47         今年目标预测250[大笑]  2017-"
      ]
     },
     "execution_count": 6,
     "metadata": {},
     "output_type": "execute_result"
    }
   ],
   "source": [
    "comment_maotai.tail()"
   ]
  },
  {
   "cell_type": "code",
   "execution_count": 7,
   "metadata": {
    "collapsed": false,
    "scrolled": true
   },
   "outputs": [
    {
     "data": {
      "text/html": [
       "<div>\n",
       "<style scoped>\n",
       "    .dataframe tbody tr th:only-of-type {\n",
       "        vertical-align: middle;\n",
       "    }\n",
       "\n",
       "    .dataframe tbody tr th {\n",
       "        vertical-align: top;\n",
       "    }\n",
       "\n",
       "    .dataframe thead th {\n",
       "        text-align: right;\n",
       "    }\n",
       "</style>\n",
       "<table border=\"1\" class=\"dataframe\">\n",
       "  <thead>\n",
       "    <tr style=\"text-align: right;\">\n",
       "      <th></th>\n",
       "      <th>time</th>\n",
       "      <th>comments</th>\n",
       "      <th>year</th>\n",
       "      <th>date</th>\n",
       "    </tr>\n",
       "  </thead>\n",
       "  <tbody>\n",
       "    <tr>\n",
       "      <th>0</th>\n",
       "      <td>05-06 08:15</td>\n",
       "      <td>【名博论市】假日多空消息平衡，期望5月开门红</td>\n",
       "      <td>2021-</td>\n",
       "      <td>2021-05-06 08:15</td>\n",
       "    </tr>\n",
       "    <tr>\n",
       "      <th>1</th>\n",
       "      <td>05-06 08:59</td>\n",
       "      <td>贵州：拟持续深化领导干部利用茅台酒谋取私利问题专项</td>\n",
       "      <td>2021-</td>\n",
       "      <td>2021-05-06 08:59</td>\n",
       "    </tr>\n",
       "    <tr>\n",
       "      <th>2</th>\n",
       "      <td>05-05 16:34</td>\n",
       "      <td>税金确认导致利润波动，全年经营稳健长期价</td>\n",
       "      <td>2021-</td>\n",
       "      <td>2021-05-05 16:34</td>\n",
       "    </tr>\n",
       "    <tr>\n",
       "      <th>3</th>\n",
       "      <td>05-06 10:07</td>\n",
       "      <td>茅台又一子公司将谋求IPO  专家：股民反对</td>\n",
       "      <td>2021-</td>\n",
       "      <td>2021-05-06 10:07</td>\n",
       "    </tr>\n",
       "    <tr>\n",
       "      <th>4</th>\n",
       "      <td>05-04 23:33</td>\n",
       "      <td>去年白酒为什么涨了几十倍甚至上百倍？刚开</td>\n",
       "      <td>2021-</td>\n",
       "      <td>2021-05-04 23:33</td>\n",
       "    </tr>\n",
       "    <tr>\n",
       "      <th>...</th>\n",
       "      <td>...</td>\n",
       "      <td>...</td>\n",
       "      <td>...</td>\n",
       "      <td>...</td>\n",
       "    </tr>\n",
       "    <tr>\n",
       "      <th>479222</th>\n",
       "      <td>07-14 10:01</td>\n",
       "      <td>珠峰山之巅，高处不胜寒</td>\n",
       "      <td>2017-</td>\n",
       "      <td>2017-07-14 10:01</td>\n",
       "    </tr>\n",
       "    <tr>\n",
       "      <th>479223</th>\n",
       "      <td>07-14 09:58</td>\n",
       "      <td>几分钟涨停？603879永悦科技</td>\n",
       "      <td>2017-</td>\n",
       "      <td>2017-07-14 09:58</td>\n",
       "    </tr>\n",
       "    <tr>\n",
       "      <th>479224</th>\n",
       "      <td>07-14 09:55</td>\n",
       "      <td>600218全柴动力暴涨潜力特大</td>\n",
       "      <td>2017-</td>\n",
       "      <td>2017-07-14 09:55</td>\n",
       "    </tr>\n",
       "    <tr>\n",
       "      <th>479225</th>\n",
       "      <td>07-14 09:54</td>\n",
       "      <td>峰有多高，谷有多深，不信你能涨到天上去。</td>\n",
       "      <td>2017-</td>\n",
       "      <td>2017-07-14 09:54</td>\n",
       "    </tr>\n",
       "    <tr>\n",
       "      <th>479226</th>\n",
       "      <td>07-14 09:47</td>\n",
       "      <td>今年目标预测250[大笑]</td>\n",
       "      <td>2017-</td>\n",
       "      <td>2017-07-14 09:47</td>\n",
       "    </tr>\n",
       "  </tbody>\n",
       "</table>\n",
       "<p>479227 rows × 4 columns</p>\n",
       "</div>"
      ],
      "text/plain": [
       "               time                   comments   year              date\n",
       "0       05-06 08:15     【名博论市】假日多空消息平衡，期望5月开门红  2021-  2021-05-06 08:15\n",
       "1       05-06 08:59  贵州：拟持续深化领导干部利用茅台酒谋取私利问题专项  2021-  2021-05-06 08:59\n",
       "2       05-05 16:34       税金确认导致利润波动，全年经营稳健长期价  2021-  2021-05-05 16:34\n",
       "3       05-06 10:07     茅台又一子公司将谋求IPO  专家：股民反对  2021-  2021-05-06 10:07\n",
       "4       05-04 23:33       去年白酒为什么涨了几十倍甚至上百倍？刚开  2021-  2021-05-04 23:33\n",
       "...             ...                        ...    ...               ...\n",
       "479222  07-14 10:01                珠峰山之巅，高处不胜寒  2017-  2017-07-14 10:01\n",
       "479223  07-14 09:58           几分钟涨停？603879永悦科技  2017-  2017-07-14 09:58\n",
       "479224  07-14 09:55           600218全柴动力暴涨潜力特大  2017-  2017-07-14 09:55\n",
       "479225  07-14 09:54       峰有多高，谷有多深，不信你能涨到天上去。  2017-  2017-07-14 09:54\n",
       "479226  07-14 09:47              今年目标预测250[大笑]  2017-  2017-07-14 09:47\n",
       "\n",
       "[479227 rows x 4 columns]"
      ]
     },
     "execution_count": 7,
     "metadata": {},
     "output_type": "execute_result"
    }
   ],
   "source": [
    "comment_maotai['time']=comment_maotai['time'].apply(str)\n",
    "comment_maotai['year']=comment_maotai['year'].apply(str)\n",
    "comment_maotai['comments']=comment_maotai['comments'].apply(str)\n",
    "comment_maotai['date']=comment_maotai.apply(lambda x:x['year']+x['time'],axis=1)\n",
    "comment_maotai"
   ]
  },
  {
   "cell_type": "code",
   "execution_count": 8,
   "metadata": {
    "collapsed": true
   },
   "outputs": [],
   "source": [
    "stop_words=pd.read_excel('stop_words.xlsx')['stop_words'].tolist()"
   ]
  },
  {
   "cell_type": "code",
   "execution_count": 9,
   "metadata": {
    "collapsed": false
   },
   "outputs": [
    {
     "name": "stderr",
     "output_type": "stream",
     "text": [
      "Building prefix dict from the default dictionary ...\n",
      "Loading model from cache /var/folders/jl/mx0f9lh56s30dz8s3j7l2bk00000gn/T/jieba.cache\n",
      "Loading model cost 0.419 seconds.\n",
      "Prefix dict has been built successfully.\n"
     ]
    },
    {
     "name": "stdout",
     "output_type": "stream",
     "text": [
      "100.0 % finished\n"
     ]
    }
   ],
   "source": [
    "comment_maotai['seg']=None\n",
    "for i in range(len(comment_maotai.index)):\n",
    "    temp0=comment_maotai['comments'][i]\n",
    "    temp1=re.sub(r'[a-zA-Z0-9]','',temp0)\n",
    "    temp2=list(set(jieba.lcut(temp1)).difference(set(stop_words)))\n",
    "    comment_maotai['seg'][i]=\" \".join(str(i) for i in temp2)\n",
    "    \n",
    "print(round(i/len(comment_maotai.index)*100,2),'% finished')"
   ]
  },
  {
   "cell_type": "code",
   "execution_count": 10,
   "metadata": {
    "collapsed": false
   },
   "outputs": [
    {
     "data": {
      "text/html": [
       "<div>\n",
       "<style scoped>\n",
       "    .dataframe tbody tr th:only-of-type {\n",
       "        vertical-align: middle;\n",
       "    }\n",
       "\n",
       "    .dataframe tbody tr th {\n",
       "        vertical-align: top;\n",
       "    }\n",
       "\n",
       "    .dataframe thead th {\n",
       "        text-align: right;\n",
       "    }\n",
       "</style>\n",
       "<table border=\"1\" class=\"dataframe\">\n",
       "  <thead>\n",
       "    <tr style=\"text-align: right;\">\n",
       "      <th></th>\n",
       "      <th>created_time</th>\n",
       "      <th>title</th>\n",
       "    </tr>\n",
       "  </thead>\n",
       "  <tbody>\n",
       "    <tr>\n",
       "      <th>0</th>\n",
       "      <td>2021-05-06 08:15</td>\n",
       "      <td>消息 期望 平衡 名博论 假日 多空 开门红 市 月</td>\n",
       "    </tr>\n",
       "    <tr>\n",
       "      <th>1</th>\n",
       "      <td>2021-05-06 08:59</td>\n",
       "      <td>干部 茅台酒 利用 专项 谋取私利 贵州 领导 深化 持续 拟</td>\n",
       "    </tr>\n",
       "    <tr>\n",
       "      <th>2</th>\n",
       "      <td>2021-05-05 16:34</td>\n",
       "      <td>经营 确认 稳健 税金 利润 导致 价 波动 长期</td>\n",
       "    </tr>\n",
       "    <tr>\n",
       "      <th>3</th>\n",
       "      <td>2021-05-06 10:07</td>\n",
       "      <td>茅台 子公司 专家   股民 谋求 反对</td>\n",
       "    </tr>\n",
       "    <tr>\n",
       "      <th>4</th>\n",
       "      <td>2021-05-04 23:33</td>\n",
       "      <td>去年 几十倍 涨 刚开 百倍 白酒</td>\n",
       "    </tr>\n",
       "  </tbody>\n",
       "</table>\n",
       "</div>"
      ],
      "text/plain": [
       "       created_time                            title\n",
       "0  2021-05-06 08:15       消息 期望 平衡 名博论 假日 多空 开门红 市 月\n",
       "1  2021-05-06 08:59  干部 茅台酒 利用 专项 谋取私利 贵州 领导 深化 持续 拟\n",
       "2  2021-05-05 16:34        经营 确认 稳健 税金 利润 导致 价 波动 长期\n",
       "3  2021-05-06 10:07             茅台 子公司 专家   股民 谋求 反对\n",
       "4  2021-05-04 23:33                去年 几十倍 涨 刚开 百倍 白酒"
      ]
     },
     "execution_count": 10,
     "metadata": {},
     "output_type": "execute_result"
    }
   ],
   "source": [
    "seg=comment_maotai[['date','seg']]\n",
    "seg.columns=['created_time','title']\n",
    "seg.head()"
   ]
  },
  {
   "cell_type": "code",
   "execution_count": 11,
   "metadata": {
    "collapsed": true
   },
   "outputs": [],
   "source": [
    "seg.to_csv('stock_comments_seg2.csv',index=None)"
   ]
  },
  {
   "cell_type": "code",
   "execution_count": 12,
   "metadata": {
    "collapsed": false
   },
   "outputs": [
    {
     "data": {
      "text/html": [
       "<div>\n",
       "<style scoped>\n",
       "    .dataframe tbody tr th:only-of-type {\n",
       "        vertical-align: middle;\n",
       "    }\n",
       "\n",
       "    .dataframe tbody tr th {\n",
       "        vertical-align: top;\n",
       "    }\n",
       "\n",
       "    .dataframe thead th {\n",
       "        text-align: right;\n",
       "    }\n",
       "</style>\n",
       "<table border=\"1\" class=\"dataframe\">\n",
       "  <thead>\n",
       "    <tr style=\"text-align: right;\">\n",
       "      <th></th>\n",
       "      <th>created_time</th>\n",
       "      <th>title</th>\n",
       "    </tr>\n",
       "  </thead>\n",
       "  <tbody>\n",
       "    <tr>\n",
       "      <th>479222</th>\n",
       "      <td>2017-07-14 10:01</td>\n",
       "      <td>寒 珠峰 山之巅 高处不胜</td>\n",
       "    </tr>\n",
       "    <tr>\n",
       "      <th>479223</th>\n",
       "      <td>2017-07-14 09:58</td>\n",
       "      <td>涨停 科技 几分钟 永悦</td>\n",
       "    </tr>\n",
       "    <tr>\n",
       "      <th>479224</th>\n",
       "      <td>2017-07-14 09:55</td>\n",
       "      <td>动力 暴涨 全柴 潜力 特大</td>\n",
       "    </tr>\n",
       "    <tr>\n",
       "      <th>479225</th>\n",
       "      <td>2017-07-14 09:54</td>\n",
       "      <td>谷 有多深 峰 涨 高 天上 不信</td>\n",
       "    </tr>\n",
       "    <tr>\n",
       "      <th>479226</th>\n",
       "      <td>2017-07-14 09:47</td>\n",
       "      <td>大笑 目标 预测</td>\n",
       "    </tr>\n",
       "  </tbody>\n",
       "</table>\n",
       "</div>"
      ],
      "text/plain": [
       "            created_time              title\n",
       "479222  2017-07-14 10:01      寒 珠峰 山之巅 高处不胜\n",
       "479223  2017-07-14 09:58       涨停 科技 几分钟 永悦\n",
       "479224  2017-07-14 09:55     动力 暴涨 全柴 潜力 特大\n",
       "479225  2017-07-14 09:54  谷 有多深 峰 涨 高 天上 不信\n",
       "479226  2017-07-14 09:47           大笑 目标 预测"
      ]
     },
     "execution_count": 12,
     "metadata": {},
     "output_type": "execute_result"
    }
   ],
   "source": [
    "seg.tail()"
   ]
  },
  {
   "cell_type": "code",
   "execution_count": null,
   "metadata": {
    "collapsed": true
   },
   "outputs": [],
   "source": []
  }
 ],
 "metadata": {
  "anaconda-cloud": {},
  "kernelspec": {
   "display_name": "Python [default]",
   "language": "python",
   "name": "python3"
  },
  "language_info": {
   "codemirror_mode": {
    "name": "ipython",
    "version": 3
   },
   "file_extension": ".py",
   "mimetype": "text/x-python",
   "name": "python",
   "nbconvert_exporter": "python",
   "pygments_lexer": "ipython3",
   "version": "3.5.2"
  },
  "toc": {
   "base_numbering": 1,
   "nav_menu": {},
   "number_sections": true,
   "sideBar": true,
   "skip_h1_title": false,
   "title_cell": "Table of Contents",
   "title_sidebar": "Contents",
   "toc_cell": false,
   "toc_position": {},
   "toc_section_display": true,
   "toc_window_display": false
  }
 },
 "nbformat": 4,
 "nbformat_minor": 1
}
