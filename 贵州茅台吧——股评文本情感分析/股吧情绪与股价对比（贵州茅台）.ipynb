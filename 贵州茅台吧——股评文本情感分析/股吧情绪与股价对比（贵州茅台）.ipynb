{
 "cells": [
  {
   "cell_type": "code",
   "execution_count": 1,
   "metadata": {
    "collapsed": true
   },
   "outputs": [],
   "source": [
    "import os\n",
    "from time import time\n",
    "import pandas as pd\n",
    "import numpy as np\n",
    "import pickle\n",
    "from sklearn.feature_extraction.text import TfidfVectorizer, CountVectorizer\n",
    "from sklearn.model_selection import train_test_split, cross_val_score, KFold\n",
    "from sklearn.feature_selection import SelectKBest, chi2\n",
    "from sklearn.utils.extmath import density\n",
    "from sklearn import svm\n",
    "from sklearn import naive_bayes\n",
    "from sklearn.tree import DecisionTreeClassifier\n",
    "from sklearn.ensemble import RandomForestClassifier\n",
    "from sklearn.linear_model import LogisticRegression, SGDClassifier\n",
    "from sklearn.ensemble import AdaBoostClassifier\n",
    "from sklearn.neighbors import KNeighborsClassifier\n",
    "from sklearn import metrics\n",
    "from sklearn.utils import shuffle"
   ]
  },
  {
   "cell_type": "code",
   "execution_count": 2,
   "metadata": {
    "collapsed": true
   },
   "outputs": [],
   "source": [
    "np.random.seed(42)\n",
    "#seed( ) 用于指定随机数生成时所用算法开始的整数值。\n",
    "#1.如果使用相同的seed( )值，则每次生成的随即数都相同；\n",
    "#2.如果不设置这个值，则系统根据时间来自己选择这个值，此时每次生成的随机数因时间差异而不同。\n",
    "#3.设置的seed()值仅一次有效"
   ]
  },
  {
   "cell_type": "code",
   "execution_count": 3,
   "metadata": {
    "collapsed": true
   },
   "outputs": [],
   "source": [
    "comment_file = './data/stock_comments_seg2.csv'\n",
    "data_path = './data'\n",
    "pos_corpus = 'positive.txt'\n",
    "neg_corpus = 'negative.txt'\n",
    "K_Best_Features = 3000"
   ]
  },
  {
   "cell_type": "code",
   "execution_count": 4,
   "metadata": {
    "collapsed": true
   },
   "outputs": [],
   "source": [
    "def load_dataset():\n",
    "    pos_file = os.path.join(data_path, pos_corpus)\n",
    "    neg_file = os.path.join(data_path, neg_corpus)\n",
    "\n",
    "    pos_sents = []\n",
    "    with open(pos_file, 'r', encoding='utf-8') as f:\n",
    "        for sent in f:\n",
    "            pos_sents.append(sent.replace('\\n', ''))\n",
    "\n",
    "    neg_sents = []\n",
    "    with open(neg_file, 'r', encoding='utf-8') as f:\n",
    "        for sent in f:\n",
    "            neg_sents.append(sent.replace('\\n', ''))\n",
    "\n",
    "    balance_len = min(len(pos_sents), len(neg_sents))\n",
    "\n",
    "    pos_df = pd.DataFrame(pos_sents, columns=['text'])\n",
    "    pos_df['polarity'] = 1\n",
    "    pos_df = pos_df[:balance_len]\n",
    "\n",
    "    neg_df = pd.DataFrame(neg_sents, columns=['text'])\n",
    "    neg_df['polarity'] = 0\n",
    "    neg_df = neg_df[:balance_len]\n",
    "\n",
    "    return pd.concat([pos_df, neg_df]).reset_index(drop=True)\n",
    "#    return pd.concat([pos_df, neg_df]).sample(frac=1).reset_index(drop=True)"
   ]
  },
  {
   "cell_type": "code",
   "execution_count": 5,
   "metadata": {
    "collapsed": true
   },
   "outputs": [],
   "source": [
    "def load_dataset_tokenized():\n",
    "    pos_file = os.path.join(data_path, pos_corpus)\n",
    "    neg_file = os.path.join(data_path, neg_corpus)\n",
    "\n",
    "    pos_sents = []\n",
    "    with open(pos_file, 'r', encoding='utf-8') as f:\n",
    "        for line in f:\n",
    "            tokens = line.split(' ')\n",
    "            sent = []\n",
    "            for t in tokens:\n",
    "                if t.strip():\n",
    "                    sent.append(t.strip())\n",
    "            pos_sents.append(sent)\n",
    "\n",
    "    neg_sents = []\n",
    "    with open(neg_file, 'r', encoding='utf-8') as f:\n",
    "        for line in f:\n",
    "            tokens = line.split(' ')\n",
    "            sent = []\n",
    "            for t in tokens:\n",
    "                if t.strip():\n",
    "                    sent.append(t.strip())\n",
    "            neg_sents.append(sent)\n",
    "\n",
    "    balance_len = min(len(pos_sents), len(neg_sents))\n",
    "\n",
    "    texts = pos_sents + neg_sents\n",
    "    labels = [1] * balance_len + [0] * balance_len\n",
    "\n",
    "    return texts, labels"
   ]
  },
  {
   "cell_type": "code",
   "execution_count": 6,
   "metadata": {
    "collapsed": true
   },
   "outputs": [],
   "source": [
    "#TfidfVectorizer可以把原始文本转化为tf-idf的特征矩阵，从而为后续的文本相似度计算，主题模型(如LSI)，文本搜索排序等一系列应用奠定基础\n",
    "def KFold_validation(clf, X, y):\n",
    "    acc = []\n",
    "    pos_precision, pos_recall, pos_f1_score = [], [], []\n",
    "    neg_precision, neg_recall, neg_f1_score = [], [], []\n",
    "\n",
    "    kf = KFold(n_splits=5, shuffle=True, random_state=42)\n",
    "    for train, test in kf.split(X):\n",
    "        X_train = [X[i] for i in train]\n",
    "        X_test = [X[i] for i in test]\n",
    "        y_train = [y[i] for i in train]\n",
    "        y_test = [y[i] for i in test]\n",
    "\n",
    "        # vectorizer = TfidfVectorizer(analyzer='word', tokenizer=lambda x : (w for w in x.split(' ') if w.strip()))\n",
    "        def dummy_fun(doc):\n",
    "            return doc\n",
    "\n",
    "        vectorizer = TfidfVectorizer(analyzer='word',\n",
    "                                     tokenizer=dummy_fun,\n",
    "                                     preprocessor=dummy_fun,\n",
    "                                     token_pattern=None)\n",
    "\n",
    "        vectorizer.fit(X_train)\n",
    "        X_train = vectorizer.transform(X_train)\n",
    "        X_test = vectorizer.transform(X_test)\n",
    "\n",
    "        clf.fit(X_train, y_train)\n",
    "        preds = clf.predict(X_test)\n",
    "\n",
    "        acc.append(metrics.accuracy_score(y_test, preds))\n",
    "        pos_precision.append(metrics.precision_score(y_test, preds, pos_label=1))\n",
    "        pos_recall.append(metrics.recall_score(y_test, preds, pos_label=1))\n",
    "        pos_f1_score.append(metrics.f1_score(y_test, preds, pos_label=1))\n",
    "        neg_precision.append(metrics.precision_score(y_test, preds, pos_label=0))\n",
    "        neg_recall.append(metrics.recall_score(y_test, preds, pos_label=0))\n",
    "        neg_f1_score.append(metrics.f1_score(y_test, preds, pos_label=0))\n",
    "\n",
    "\n",
    "    return (np.mean(acc), np.mean(pos_precision), np.mean(pos_recall), np.mean(pos_f1_score),\n",
    "            np.mean(neg_precision), np.mean(neg_recall), np.mean(neg_f1_score))"
   ]
  },
  {
   "cell_type": "code",
   "execution_count": 7,
   "metadata": {
    "collapsed": true
   },
   "outputs": [],
   "source": [
    "def benchmark_clfs():\n",
    "    print('Loading dataset...')\n",
    "\n",
    "    X, y = load_dataset_tokenized()\n",
    "\n",
    "    classifiers = [\n",
    "        ('LinearSVC', svm.LinearSVC()),\n",
    "        ('LogisticReg', LogisticRegression()),\n",
    "        ('SGD', SGDClassifier()),\n",
    "        ('MultinomialNB', naive_bayes.MultinomialNB()),\n",
    "        ('KNN', KNeighborsClassifier()),\n",
    "        ('DecisionTree', DecisionTreeClassifier()),\n",
    "        ('RandomForest', RandomForestClassifier()),\n",
    "        ('AdaBoost', AdaBoostClassifier(base_estimator=LogisticRegression()))\n",
    "    ]\n",
    "\n",
    "    cols = ['metrics', 'accuracy',  'pos_precision', 'pos_recall', 'pos_f1_score', 'neg_precision', 'neg_recall', 'neg_f1_score']\n",
    "    scores = []\n",
    "    for name, clf in classifiers:\n",
    "        score = KFold_validation(clf, X, y)\n",
    "        row = [name]\n",
    "        row.extend(score)\n",
    "        scores.append(row)\n",
    "\n",
    "    df = pd.DataFrame(scores, columns=cols).T\n",
    "    df.columns = df.iloc[0]\n",
    "    df.drop(df.index[[0]], inplace=True)\n",
    "    df = df.apply(pd.to_numeric, errors='ignore')\n",
    "\n",
    "    return df"
   ]
  },
  {
   "cell_type": "code",
   "execution_count": 8,
   "metadata": {
    "collapsed": true
   },
   "outputs": [],
   "source": [
    "def dummy_fun(doc):\n",
    "        return doc"
   ]
  },
  {
   "cell_type": "code",
   "execution_count": 9,
   "metadata": {
    "collapsed": true
   },
   "outputs": [],
   "source": [
    "def eval_model():\n",
    "    print('Loading dataset...')\n",
    "\n",
    "    X, y = load_dataset_tokenized()\n",
    "\n",
    "    clf = svm.LinearSVC()\n",
    "\n",
    "    vectorizer = TfidfVectorizer(analyzer='word',\n",
    "                                 tokenizer=dummy_fun,\n",
    "                                 preprocessor=dummy_fun,\n",
    "                                 token_pattern=None)\n",
    "\n",
    "    X = vectorizer.fit_transform(X)\n",
    "\n",
    "    print('Train model...')\n",
    "    clf.fit(X, y)\n",
    "\n",
    "    print('Loading comments...')\n",
    "    df = pd.read_csv(comment_file)\n",
    "    df.dropna(inplace=True)\n",
    "    df.reset_index(drop=True, inplace=True)\n",
    "    df['created_time'] = pd.to_datetime(df['created_time'], format='%Y-%m-%d %H:%M:%S')\n",
    "    df['polarity'] = 0\n",
    "    df['title'].apply(lambda x: [w.strip() for w in x.split()])\n",
    "\n",
    "    texts = df['title']\n",
    "    texts = vectorizer.transform(texts)\n",
    "\n",
    "    preds = clf.predict(texts)\n",
    "    df['polarity'] = preds\n",
    "\n",
    "    df.to_csv('stock_comments_analyzed2.csv', index=False)"
   ]
  },
  {
   "cell_type": "code",
   "execution_count": 10,
   "metadata": {
    "collapsed": false
   },
   "outputs": [
    {
     "name": "stdout",
     "output_type": "stream",
     "text": [
      "Loading dataset...\n",
      "metrics        LinearSVC  LogisticReg       SGD  MultinomialNB       KNN  \\\n",
      "accuracy        0.881593     0.880834  0.882353       0.879640  0.820056   \n",
      "pos_precision   0.880544     0.879024  0.882389       0.882137  0.807142   \n",
      "pos_recall      0.882481     0.882941  0.881723       0.876015  0.840426   \n",
      "pos_f1_score    0.881483     0.880898  0.882029       0.879043  0.823396   \n",
      "neg_precision   0.882443     0.882578  0.882201       0.876666  0.833607   \n",
      "neg_recall      0.880121     0.878210  0.882241       0.883188  0.799070   \n",
      "neg_f1_score    0.881251     0.880306  0.882189       0.879890  0.815912   \n",
      "\n",
      "metrics        DecisionTree  RandomForest  AdaBoost  \n",
      "accuracy           0.795095      0.847514  0.771659  \n",
      "pos_precision      0.813365      0.869430  0.797129  \n",
      "pos_recall         0.765163      0.817591  0.798650  \n",
      "pos_f1_score       0.788482      0.842650  0.765202  \n",
      "neg_precision      0.778262      0.827652  0.825027  \n",
      "neg_recall         0.824773      0.877225  0.759168  \n",
      "neg_f1_score       0.800786      0.851654  0.766304  \n",
      "Loading dataset...\n",
      "Train model...\n",
      "Loading comments...\n"
     ]
    }
   ],
   "source": [
    "if __name__ == '__main__':\n",
    "    scores = benchmark_clfs()\n",
    "    print(scores)\n",
    "    scores.to_csv('model_ml_scores2.csv', float_format='%.4f')\n",
    "\n",
    "\n",
    "    eval_model()"
   ]
  },
  {
   "cell_type": "code",
   "execution_count": 11,
   "metadata": {
    "collapsed": true
   },
   "outputs": [],
   "source": [
    "import pandas as pd\n",
    "import numpy as np"
   ]
  },
  {
   "cell_type": "code",
   "execution_count": 12,
   "metadata": {
    "collapsed": false
   },
   "outputs": [],
   "source": [
    "df = pd.read_csv('stock_comments_analyzed2.csv',encoding='gb18030',parse_dates=['created_time'])\n",
    "grouped = df['polarity'].groupby(df.created_time.dt.date)"
   ]
  },
  {
   "cell_type": "code",
   "execution_count": 13,
   "metadata": {
    "collapsed": false
   },
   "outputs": [
    {
     "data": {
      "text/html": [
       "<div>\n",
       "<style>\n",
       "    .dataframe thead tr:only-child th {\n",
       "        text-align: right;\n",
       "    }\n",
       "\n",
       "    .dataframe thead th {\n",
       "        text-align: left;\n",
       "    }\n",
       "\n",
       "    .dataframe tbody tr th {\n",
       "        vertical-align: top;\n",
       "    }\n",
       "</style>\n",
       "<table border=\"1\" class=\"dataframe\">\n",
       "  <thead>\n",
       "    <tr style=\"text-align: right;\">\n",
       "      <th></th>\n",
       "      <th>created_time</th>\n",
       "      <th>title</th>\n",
       "      <th>polarity</th>\n",
       "    </tr>\n",
       "  </thead>\n",
       "  <tbody>\n",
       "    <tr>\n",
       "      <th>473606</th>\n",
       "      <td>2017-07-14 10:01:00</td>\n",
       "      <td>寒 珠峰 山之巅 高处不胜</td>\n",
       "      <td>0</td>\n",
       "    </tr>\n",
       "    <tr>\n",
       "      <th>473607</th>\n",
       "      <td>2017-07-14 09:58:00</td>\n",
       "      <td>涨停 科技 几分钟 永悦</td>\n",
       "      <td>1</td>\n",
       "    </tr>\n",
       "    <tr>\n",
       "      <th>473608</th>\n",
       "      <td>2017-07-14 09:55:00</td>\n",
       "      <td>动力 暴涨 全柴 潜力 特大</td>\n",
       "      <td>1</td>\n",
       "    </tr>\n",
       "    <tr>\n",
       "      <th>473609</th>\n",
       "      <td>2017-07-14 09:54:00</td>\n",
       "      <td>谷 有多深 峰 涨 高 天上 不信</td>\n",
       "      <td>1</td>\n",
       "    </tr>\n",
       "    <tr>\n",
       "      <th>473610</th>\n",
       "      <td>2017-07-14 09:47:00</td>\n",
       "      <td>大笑 目标 预测</td>\n",
       "      <td>1</td>\n",
       "    </tr>\n",
       "  </tbody>\n",
       "</table>\n",
       "</div>"
      ],
      "text/plain": [
       "              created_time              title  polarity\n",
       "473606 2017-07-14 10:01:00      寒 珠峰 山之巅 高处不胜         0\n",
       "473607 2017-07-14 09:58:00       涨停 科技 几分钟 永悦         1\n",
       "473608 2017-07-14 09:55:00     动力 暴涨 全柴 潜力 特大         1\n",
       "473609 2017-07-14 09:54:00  谷 有多深 峰 涨 高 天上 不信         1\n",
       "473610 2017-07-14 09:47:00           大笑 目标 预测         1"
      ]
     },
     "execution_count": 13,
     "metadata": {},
     "output_type": "execute_result"
    }
   ],
   "source": [
    "df.tail()"
   ]
  },
  {
   "cell_type": "code",
   "execution_count": 14,
   "metadata": {
    "collapsed": true
   },
   "outputs": [],
   "source": [
    "def BI_Simple_func(row):\n",
    "    pos = row[row == 1].count()\n",
    "    neg = row[row == 0].count()\n",
    "\n",
    "    return (pos-neg)/(pos+neg)"
   ]
  },
  {
   "cell_type": "code",
   "execution_count": 15,
   "metadata": {
    "collapsed": true
   },
   "outputs": [],
   "source": [
    "BI_Simple_index = grouped.apply(BI_Simple_func)"
   ]
  },
  {
   "cell_type": "code",
   "execution_count": 16,
   "metadata": {
    "collapsed": false
   },
   "outputs": [
    {
     "data": {
      "text/plain": [
       "created_time\n",
       "2017-07-14   -0.118644\n",
       "2017-07-15   -0.292308\n",
       "2017-07-16   -0.018182\n",
       "2017-07-17   -0.256098\n",
       "2017-07-18   -0.007519\n",
       "Name: polarity, dtype: float64"
      ]
     },
     "execution_count": 16,
     "metadata": {},
     "output_type": "execute_result"
    }
   ],
   "source": [
    "BI_Simple_index.head()"
   ]
  },
  {
   "cell_type": "code",
   "execution_count": 17,
   "metadata": {
    "collapsed": true
   },
   "outputs": [],
   "source": [
    "def BI_func(row):\n",
    "    pos = row[row == 1].count()\n",
    "    neg = row[row == 0].count()\n",
    "\n",
    "    bi = np.log(1.0 * (1+pos) / (1+neg))\n",
    "\n",
    "    return bi"
   ]
  },
  {
   "cell_type": "code",
   "execution_count": 18,
   "metadata": {
    "collapsed": true
   },
   "outputs": [],
   "source": [
    "BI_index = grouped.apply(BI_func)"
   ]
  },
  {
   "cell_type": "code",
   "execution_count": 19,
   "metadata": {
    "collapsed": true
   },
   "outputs": [],
   "source": [
    "sentiment_idx = pd.concat([BI_index.rename('BI'), BI_Simple_index.rename('BI_Simple')], axis=1)"
   ]
  },
  {
   "cell_type": "code",
   "execution_count": 20,
   "metadata": {
    "collapsed": false
   },
   "outputs": [
    {
     "data": {
      "text/html": [
       "<div>\n",
       "<style>\n",
       "    .dataframe thead tr:only-child th {\n",
       "        text-align: right;\n",
       "    }\n",
       "\n",
       "    .dataframe thead th {\n",
       "        text-align: left;\n",
       "    }\n",
       "\n",
       "    .dataframe tbody tr th {\n",
       "        vertical-align: top;\n",
       "    }\n",
       "</style>\n",
       "<table border=\"1\" class=\"dataframe\">\n",
       "  <thead>\n",
       "    <tr style=\"text-align: right;\">\n",
       "      <th></th>\n",
       "      <th>BI</th>\n",
       "      <th>BI_Simple</th>\n",
       "    </tr>\n",
       "    <tr>\n",
       "      <th>created_time</th>\n",
       "      <th></th>\n",
       "      <th></th>\n",
       "    </tr>\n",
       "  </thead>\n",
       "  <tbody>\n",
       "    <tr>\n",
       "      <th>2017-07-14</th>\n",
       "      <td>-0.234401</td>\n",
       "      <td>-0.118644</td>\n",
       "    </tr>\n",
       "    <tr>\n",
       "      <th>2017-07-15</th>\n",
       "      <td>-0.583146</td>\n",
       "      <td>-0.292308</td>\n",
       "    </tr>\n",
       "    <tr>\n",
       "      <th>2017-07-16</th>\n",
       "      <td>-0.035091</td>\n",
       "      <td>-0.018182</td>\n",
       "    </tr>\n",
       "    <tr>\n",
       "      <th>2017-07-17</th>\n",
       "      <td>-0.517257</td>\n",
       "      <td>-0.256098</td>\n",
       "    </tr>\n",
       "    <tr>\n",
       "      <th>2017-07-18</th>\n",
       "      <td>-0.014815</td>\n",
       "      <td>-0.007519</td>\n",
       "    </tr>\n",
       "  </tbody>\n",
       "</table>\n",
       "</div>"
      ],
      "text/plain": [
       "                    BI  BI_Simple\n",
       "created_time                     \n",
       "2017-07-14   -0.234401  -0.118644\n",
       "2017-07-15   -0.583146  -0.292308\n",
       "2017-07-16   -0.035091  -0.018182\n",
       "2017-07-17   -0.517257  -0.256098\n",
       "2017-07-18   -0.014815  -0.007519"
      ]
     },
     "execution_count": 20,
     "metadata": {},
     "output_type": "execute_result"
    }
   ],
   "source": [
    "sentiment_idx.head()"
   ]
  },
  {
   "cell_type": "code",
   "execution_count": 21,
   "metadata": {
    "collapsed": true
   },
   "outputs": [],
   "source": [
    "quotes = pd.read_csv('./data/stock_data_600519.csv', parse_dates=['date'])\n",
    "quotes.set_index('date', inplace=True)"
   ]
  },
  {
   "cell_type": "code",
   "execution_count": 22,
   "metadata": {
    "collapsed": false
   },
   "outputs": [
    {
     "data": {
      "text/html": [
       "<div>\n",
       "<style>\n",
       "    .dataframe thead tr:only-child th {\n",
       "        text-align: right;\n",
       "    }\n",
       "\n",
       "    .dataframe thead th {\n",
       "        text-align: left;\n",
       "    }\n",
       "\n",
       "    .dataframe tbody tr th {\n",
       "        vertical-align: top;\n",
       "    }\n",
       "</style>\n",
       "<table border=\"1\" class=\"dataframe\">\n",
       "  <thead>\n",
       "    <tr style=\"text-align: right;\">\n",
       "      <th></th>\n",
       "      <th>open</th>\n",
       "      <th>high</th>\n",
       "      <th>low</th>\n",
       "      <th>close</th>\n",
       "      <th>volume</th>\n",
       "    </tr>\n",
       "    <tr>\n",
       "      <th>date</th>\n",
       "      <th></th>\n",
       "      <th></th>\n",
       "      <th></th>\n",
       "      <th></th>\n",
       "      <th></th>\n",
       "    </tr>\n",
       "  </thead>\n",
       "  <tbody>\n",
       "    <tr>\n",
       "      <th>2017-07-14</th>\n",
       "      <td>456.25</td>\n",
       "      <td>458.76</td>\n",
       "      <td>453.05</td>\n",
       "      <td>456.41</td>\n",
       "      <td>1772657</td>\n",
       "    </tr>\n",
       "    <tr>\n",
       "      <th>2017-07-17</th>\n",
       "      <td>457.04</td>\n",
       "      <td>458.04</td>\n",
       "      <td>446.28</td>\n",
       "      <td>450.07</td>\n",
       "      <td>3526368</td>\n",
       "    </tr>\n",
       "    <tr>\n",
       "      <th>2017-07-18</th>\n",
       "      <td>451.99</td>\n",
       "      <td>453.99</td>\n",
       "      <td>448.00</td>\n",
       "      <td>452.55</td>\n",
       "      <td>3068449</td>\n",
       "    </tr>\n",
       "    <tr>\n",
       "      <th>2017-07-19</th>\n",
       "      <td>454.00</td>\n",
       "      <td>463.62</td>\n",
       "      <td>452.80</td>\n",
       "      <td>456.86</td>\n",
       "      <td>5625994</td>\n",
       "    </tr>\n",
       "    <tr>\n",
       "      <th>2017-07-20</th>\n",
       "      <td>455.86</td>\n",
       "      <td>466.89</td>\n",
       "      <td>455.86</td>\n",
       "      <td>466.47</td>\n",
       "      <td>4663487</td>\n",
       "    </tr>\n",
       "  </tbody>\n",
       "</table>\n",
       "</div>"
      ],
      "text/plain": [
       "              open    high     low   close   volume\n",
       "date                                               \n",
       "2017-07-14  456.25  458.76  453.05  456.41  1772657\n",
       "2017-07-17  457.04  458.04  446.28  450.07  3526368\n",
       "2017-07-18  451.99  453.99  448.00  452.55  3068449\n",
       "2017-07-19  454.00  463.62  452.80  456.86  5625994\n",
       "2017-07-20  455.86  466.89  455.86  466.47  4663487"
      ]
     },
     "execution_count": 22,
     "metadata": {},
     "output_type": "execute_result"
    }
   ],
   "source": [
    "quotes.head()"
   ]
  },
  {
   "cell_type": "code",
   "execution_count": 23,
   "metadata": {
    "collapsed": true
   },
   "outputs": [],
   "source": [
    "sentiment_idx.index = pd.to_datetime(sentiment_idx.index)\n",
    "merged = pd.merge(sentiment_idx, quotes, how='left', left_index=True, right_index=True)"
   ]
  },
  {
   "cell_type": "code",
   "execution_count": 24,
   "metadata": {
    "collapsed": false
   },
   "outputs": [
    {
     "data": {
      "text/html": [
       "<div>\n",
       "<style>\n",
       "    .dataframe thead tr:only-child th {\n",
       "        text-align: right;\n",
       "    }\n",
       "\n",
       "    .dataframe thead th {\n",
       "        text-align: left;\n",
       "    }\n",
       "\n",
       "    .dataframe tbody tr th {\n",
       "        vertical-align: top;\n",
       "    }\n",
       "</style>\n",
       "<table border=\"1\" class=\"dataframe\">\n",
       "  <thead>\n",
       "    <tr style=\"text-align: right;\">\n",
       "      <th></th>\n",
       "      <th>BI</th>\n",
       "      <th>BI_Simple</th>\n",
       "      <th>open</th>\n",
       "      <th>high</th>\n",
       "      <th>low</th>\n",
       "      <th>close</th>\n",
       "      <th>volume</th>\n",
       "    </tr>\n",
       "    <tr>\n",
       "      <th>created_time</th>\n",
       "      <th></th>\n",
       "      <th></th>\n",
       "      <th></th>\n",
       "      <th></th>\n",
       "      <th></th>\n",
       "      <th></th>\n",
       "      <th></th>\n",
       "    </tr>\n",
       "  </thead>\n",
       "  <tbody>\n",
       "    <tr>\n",
       "      <th>2017-07-14</th>\n",
       "      <td>-0.234401</td>\n",
       "      <td>-0.118644</td>\n",
       "      <td>456.25</td>\n",
       "      <td>458.76</td>\n",
       "      <td>453.05</td>\n",
       "      <td>456.41</td>\n",
       "      <td>1772657.0</td>\n",
       "    </tr>\n",
       "    <tr>\n",
       "      <th>2017-07-15</th>\n",
       "      <td>-0.583146</td>\n",
       "      <td>-0.292308</td>\n",
       "      <td>NaN</td>\n",
       "      <td>NaN</td>\n",
       "      <td>NaN</td>\n",
       "      <td>NaN</td>\n",
       "      <td>NaN</td>\n",
       "    </tr>\n",
       "    <tr>\n",
       "      <th>2017-07-16</th>\n",
       "      <td>-0.035091</td>\n",
       "      <td>-0.018182</td>\n",
       "      <td>NaN</td>\n",
       "      <td>NaN</td>\n",
       "      <td>NaN</td>\n",
       "      <td>NaN</td>\n",
       "      <td>NaN</td>\n",
       "    </tr>\n",
       "    <tr>\n",
       "      <th>2017-07-17</th>\n",
       "      <td>-0.517257</td>\n",
       "      <td>-0.256098</td>\n",
       "      <td>457.04</td>\n",
       "      <td>458.04</td>\n",
       "      <td>446.28</td>\n",
       "      <td>450.07</td>\n",
       "      <td>3526368.0</td>\n",
       "    </tr>\n",
       "    <tr>\n",
       "      <th>2017-07-18</th>\n",
       "      <td>-0.014815</td>\n",
       "      <td>-0.007519</td>\n",
       "      <td>451.99</td>\n",
       "      <td>453.99</td>\n",
       "      <td>448.00</td>\n",
       "      <td>452.55</td>\n",
       "      <td>3068449.0</td>\n",
       "    </tr>\n",
       "  </tbody>\n",
       "</table>\n",
       "</div>"
      ],
      "text/plain": [
       "                    BI  BI_Simple    open    high     low   close     volume\n",
       "created_time                                                                \n",
       "2017-07-14   -0.234401  -0.118644  456.25  458.76  453.05  456.41  1772657.0\n",
       "2017-07-15   -0.583146  -0.292308     NaN     NaN     NaN     NaN        NaN\n",
       "2017-07-16   -0.035091  -0.018182     NaN     NaN     NaN     NaN        NaN\n",
       "2017-07-17   -0.517257  -0.256098  457.04  458.04  446.28  450.07  3526368.0\n",
       "2017-07-18   -0.014815  -0.007519  451.99  453.99  448.00  452.55  3068449.0"
      ]
     },
     "execution_count": 24,
     "metadata": {},
     "output_type": "execute_result"
    }
   ],
   "source": [
    "merged.head()"
   ]
  },
  {
   "cell_type": "code",
   "execution_count": 25,
   "metadata": {
    "collapsed": true
   },
   "outputs": [],
   "source": [
    "merged.fillna(method='ffill', inplace=True)\n",
    "merged['BI_MA'] = merged['BI'].rolling(window=10, center=False).mean()\n",
    "merged['BI_Simple_MA'] = merged['BI_Simple'].rolling(window=10, center=False).mean()"
   ]
  },
  {
   "cell_type": "code",
   "execution_count": 26,
   "metadata": {
    "collapsed": false
   },
   "outputs": [
    {
     "data": {
      "text/html": [
       "<div>\n",
       "<style>\n",
       "    .dataframe thead tr:only-child th {\n",
       "        text-align: right;\n",
       "    }\n",
       "\n",
       "    .dataframe thead th {\n",
       "        text-align: left;\n",
       "    }\n",
       "\n",
       "    .dataframe tbody tr th {\n",
       "        vertical-align: top;\n",
       "    }\n",
       "</style>\n",
       "<table border=\"1\" class=\"dataframe\">\n",
       "  <thead>\n",
       "    <tr style=\"text-align: right;\">\n",
       "      <th></th>\n",
       "      <th>BI</th>\n",
       "      <th>BI_Simple</th>\n",
       "      <th>open</th>\n",
       "      <th>high</th>\n",
       "      <th>low</th>\n",
       "      <th>close</th>\n",
       "      <th>volume</th>\n",
       "      <th>BI_MA</th>\n",
       "      <th>BI_Simple_MA</th>\n",
       "    </tr>\n",
       "    <tr>\n",
       "      <th>created_time</th>\n",
       "      <th></th>\n",
       "      <th></th>\n",
       "      <th></th>\n",
       "      <th></th>\n",
       "      <th></th>\n",
       "      <th></th>\n",
       "      <th></th>\n",
       "      <th></th>\n",
       "      <th></th>\n",
       "    </tr>\n",
       "  </thead>\n",
       "  <tbody>\n",
       "    <tr>\n",
       "      <th>2017-07-14</th>\n",
       "      <td>-0.234401</td>\n",
       "      <td>-0.118644</td>\n",
       "      <td>456.25</td>\n",
       "      <td>458.76</td>\n",
       "      <td>453.05</td>\n",
       "      <td>456.41</td>\n",
       "      <td>1772657.0</td>\n",
       "      <td>NaN</td>\n",
       "      <td>NaN</td>\n",
       "    </tr>\n",
       "    <tr>\n",
       "      <th>2017-07-15</th>\n",
       "      <td>-0.583146</td>\n",
       "      <td>-0.292308</td>\n",
       "      <td>456.25</td>\n",
       "      <td>458.76</td>\n",
       "      <td>453.05</td>\n",
       "      <td>456.41</td>\n",
       "      <td>1772657.0</td>\n",
       "      <td>NaN</td>\n",
       "      <td>NaN</td>\n",
       "    </tr>\n",
       "    <tr>\n",
       "      <th>2017-07-16</th>\n",
       "      <td>-0.035091</td>\n",
       "      <td>-0.018182</td>\n",
       "      <td>456.25</td>\n",
       "      <td>458.76</td>\n",
       "      <td>453.05</td>\n",
       "      <td>456.41</td>\n",
       "      <td>1772657.0</td>\n",
       "      <td>NaN</td>\n",
       "      <td>NaN</td>\n",
       "    </tr>\n",
       "    <tr>\n",
       "      <th>2017-07-17</th>\n",
       "      <td>-0.517257</td>\n",
       "      <td>-0.256098</td>\n",
       "      <td>457.04</td>\n",
       "      <td>458.04</td>\n",
       "      <td>446.28</td>\n",
       "      <td>450.07</td>\n",
       "      <td>3526368.0</td>\n",
       "      <td>NaN</td>\n",
       "      <td>NaN</td>\n",
       "    </tr>\n",
       "    <tr>\n",
       "      <th>2017-07-18</th>\n",
       "      <td>-0.014815</td>\n",
       "      <td>-0.007519</td>\n",
       "      <td>451.99</td>\n",
       "      <td>453.99</td>\n",
       "      <td>448.00</td>\n",
       "      <td>452.55</td>\n",
       "      <td>3068449.0</td>\n",
       "      <td>NaN</td>\n",
       "      <td>NaN</td>\n",
       "    </tr>\n",
       "  </tbody>\n",
       "</table>\n",
       "</div>"
      ],
      "text/plain": [
       "                    BI  BI_Simple    open    high     low   close     volume  \\\n",
       "created_time                                                                   \n",
       "2017-07-14   -0.234401  -0.118644  456.25  458.76  453.05  456.41  1772657.0   \n",
       "2017-07-15   -0.583146  -0.292308  456.25  458.76  453.05  456.41  1772657.0   \n",
       "2017-07-16   -0.035091  -0.018182  456.25  458.76  453.05  456.41  1772657.0   \n",
       "2017-07-17   -0.517257  -0.256098  457.04  458.04  446.28  450.07  3526368.0   \n",
       "2017-07-18   -0.014815  -0.007519  451.99  453.99  448.00  452.55  3068449.0   \n",
       "\n",
       "              BI_MA  BI_Simple_MA  \n",
       "created_time                       \n",
       "2017-07-14      NaN           NaN  \n",
       "2017-07-15      NaN           NaN  \n",
       "2017-07-16      NaN           NaN  \n",
       "2017-07-17      NaN           NaN  \n",
       "2017-07-18      NaN           NaN  "
      ]
     },
     "execution_count": 26,
     "metadata": {},
     "output_type": "execute_result"
    }
   ],
   "source": [
    "merged.head()"
   ]
  },
  {
   "cell_type": "code",
   "execution_count": 27,
   "metadata": {
    "collapsed": true
   },
   "outputs": [],
   "source": [
    "merged.to_csv('merged_sentiment_idx2.csv')"
   ]
  },
  {
   "cell_type": "code",
   "execution_count": 28,
   "metadata": {
    "collapsed": true
   },
   "outputs": [],
   "source": [
    "import pandas as pd\n",
    "import numpy as np\n",
    "import matplotlib as mpl\n",
    "import matplotlib.pyplot as plt"
   ]
  },
  {
   "cell_type": "code",
   "execution_count": 29,
   "metadata": {
    "collapsed": true
   },
   "outputs": [],
   "source": [
    "mpl.rcParams['font.sans-serif']=['SimHei']#设置字体样式以正常显示中文\n",
    "mpl.rcParams['axes.unicode_minus'] = False#使用Unicode格式的负号"
   ]
  },
  {
   "cell_type": "code",
   "execution_count": 30,
   "metadata": {
    "collapsed": false
   },
   "outputs": [
    {
     "data": {
      "text/html": [
       "<div>\n",
       "<style>\n",
       "    .dataframe thead tr:only-child th {\n",
       "        text-align: right;\n",
       "    }\n",
       "\n",
       "    .dataframe thead th {\n",
       "        text-align: left;\n",
       "    }\n",
       "\n",
       "    .dataframe tbody tr th {\n",
       "        vertical-align: top;\n",
       "    }\n",
       "</style>\n",
       "<table border=\"1\" class=\"dataframe\">\n",
       "  <thead>\n",
       "    <tr style=\"text-align: right;\">\n",
       "      <th></th>\n",
       "      <th>created_time</th>\n",
       "      <th>BI</th>\n",
       "      <th>BI_Simple</th>\n",
       "      <th>open</th>\n",
       "      <th>high</th>\n",
       "      <th>low</th>\n",
       "      <th>close</th>\n",
       "      <th>volume</th>\n",
       "      <th>BI_MA</th>\n",
       "      <th>BI_Simple_MA</th>\n",
       "    </tr>\n",
       "  </thead>\n",
       "  <tbody>\n",
       "    <tr>\n",
       "      <th>0</th>\n",
       "      <td>2017-07-14</td>\n",
       "      <td>-0.234401</td>\n",
       "      <td>-0.118644</td>\n",
       "      <td>456.25</td>\n",
       "      <td>458.76</td>\n",
       "      <td>453.05</td>\n",
       "      <td>456.41</td>\n",
       "      <td>1772657.0</td>\n",
       "      <td>NaN</td>\n",
       "      <td>NaN</td>\n",
       "    </tr>\n",
       "    <tr>\n",
       "      <th>1</th>\n",
       "      <td>2017-07-15</td>\n",
       "      <td>-0.583146</td>\n",
       "      <td>-0.292308</td>\n",
       "      <td>456.25</td>\n",
       "      <td>458.76</td>\n",
       "      <td>453.05</td>\n",
       "      <td>456.41</td>\n",
       "      <td>1772657.0</td>\n",
       "      <td>NaN</td>\n",
       "      <td>NaN</td>\n",
       "    </tr>\n",
       "    <tr>\n",
       "      <th>2</th>\n",
       "      <td>2017-07-16</td>\n",
       "      <td>-0.035091</td>\n",
       "      <td>-0.018182</td>\n",
       "      <td>456.25</td>\n",
       "      <td>458.76</td>\n",
       "      <td>453.05</td>\n",
       "      <td>456.41</td>\n",
       "      <td>1772657.0</td>\n",
       "      <td>NaN</td>\n",
       "      <td>NaN</td>\n",
       "    </tr>\n",
       "    <tr>\n",
       "      <th>3</th>\n",
       "      <td>2017-07-17</td>\n",
       "      <td>-0.517257</td>\n",
       "      <td>-0.256098</td>\n",
       "      <td>457.04</td>\n",
       "      <td>458.04</td>\n",
       "      <td>446.28</td>\n",
       "      <td>450.07</td>\n",
       "      <td>3526368.0</td>\n",
       "      <td>NaN</td>\n",
       "      <td>NaN</td>\n",
       "    </tr>\n",
       "    <tr>\n",
       "      <th>4</th>\n",
       "      <td>2017-07-18</td>\n",
       "      <td>-0.014815</td>\n",
       "      <td>-0.007519</td>\n",
       "      <td>451.99</td>\n",
       "      <td>453.99</td>\n",
       "      <td>448.00</td>\n",
       "      <td>452.55</td>\n",
       "      <td>3068449.0</td>\n",
       "      <td>NaN</td>\n",
       "      <td>NaN</td>\n",
       "    </tr>\n",
       "  </tbody>\n",
       "</table>\n",
       "</div>"
      ],
      "text/plain": [
       "  created_time        BI  BI_Simple    open    high     low   close  \\\n",
       "0   2017-07-14 -0.234401  -0.118644  456.25  458.76  453.05  456.41   \n",
       "1   2017-07-15 -0.583146  -0.292308  456.25  458.76  453.05  456.41   \n",
       "2   2017-07-16 -0.035091  -0.018182  456.25  458.76  453.05  456.41   \n",
       "3   2017-07-17 -0.517257  -0.256098  457.04  458.04  446.28  450.07   \n",
       "4   2017-07-18 -0.014815  -0.007519  451.99  453.99  448.00  452.55   \n",
       "\n",
       "      volume  BI_MA  BI_Simple_MA  \n",
       "0  1772657.0    NaN           NaN  \n",
       "1  1772657.0    NaN           NaN  \n",
       "2  1772657.0    NaN           NaN  \n",
       "3  3526368.0    NaN           NaN  \n",
       "4  3068449.0    NaN           NaN  "
      ]
     },
     "execution_count": 30,
     "metadata": {},
     "output_type": "execute_result"
    }
   ],
   "source": [
    "df = pd.read_csv('merged_sentiment_idx2.csv')\n",
    "df.head()"
   ]
  },
  {
   "cell_type": "code",
   "execution_count": 31,
   "metadata": {
    "collapsed": false
   },
   "outputs": [
    {
     "data": {
      "text/html": [
       "<div>\n",
       "<style>\n",
       "    .dataframe thead tr:only-child th {\n",
       "        text-align: right;\n",
       "    }\n",
       "\n",
       "    .dataframe thead th {\n",
       "        text-align: left;\n",
       "    }\n",
       "\n",
       "    .dataframe tbody tr th {\n",
       "        vertical-align: top;\n",
       "    }\n",
       "</style>\n",
       "<table border=\"1\" class=\"dataframe\">\n",
       "  <thead>\n",
       "    <tr style=\"text-align: right;\">\n",
       "      <th></th>\n",
       "      <th>created_time</th>\n",
       "      <th>BI</th>\n",
       "      <th>BI_Simple</th>\n",
       "      <th>open</th>\n",
       "      <th>high</th>\n",
       "      <th>low</th>\n",
       "      <th>close</th>\n",
       "      <th>volume</th>\n",
       "      <th>BI_MA</th>\n",
       "      <th>BI_Simple_MA</th>\n",
       "    </tr>\n",
       "    <tr>\n",
       "      <th>created_time</th>\n",
       "      <th></th>\n",
       "      <th></th>\n",
       "      <th></th>\n",
       "      <th></th>\n",
       "      <th></th>\n",
       "      <th></th>\n",
       "      <th></th>\n",
       "      <th></th>\n",
       "      <th></th>\n",
       "      <th></th>\n",
       "    </tr>\n",
       "  </thead>\n",
       "  <tbody>\n",
       "    <tr>\n",
       "      <th>2017-07-14</th>\n",
       "      <td>2017-07-14</td>\n",
       "      <td>-0.234401</td>\n",
       "      <td>-0.118644</td>\n",
       "      <td>456.25</td>\n",
       "      <td>458.76</td>\n",
       "      <td>453.05</td>\n",
       "      <td>456.41</td>\n",
       "      <td>1772657.0</td>\n",
       "      <td>NaN</td>\n",
       "      <td>NaN</td>\n",
       "    </tr>\n",
       "    <tr>\n",
       "      <th>2017-07-15</th>\n",
       "      <td>2017-07-15</td>\n",
       "      <td>-0.583146</td>\n",
       "      <td>-0.292308</td>\n",
       "      <td>456.25</td>\n",
       "      <td>458.76</td>\n",
       "      <td>453.05</td>\n",
       "      <td>456.41</td>\n",
       "      <td>1772657.0</td>\n",
       "      <td>NaN</td>\n",
       "      <td>NaN</td>\n",
       "    </tr>\n",
       "    <tr>\n",
       "      <th>2017-07-16</th>\n",
       "      <td>2017-07-16</td>\n",
       "      <td>-0.035091</td>\n",
       "      <td>-0.018182</td>\n",
       "      <td>456.25</td>\n",
       "      <td>458.76</td>\n",
       "      <td>453.05</td>\n",
       "      <td>456.41</td>\n",
       "      <td>1772657.0</td>\n",
       "      <td>NaN</td>\n",
       "      <td>NaN</td>\n",
       "    </tr>\n",
       "    <tr>\n",
       "      <th>2017-07-17</th>\n",
       "      <td>2017-07-17</td>\n",
       "      <td>-0.517257</td>\n",
       "      <td>-0.256098</td>\n",
       "      <td>457.04</td>\n",
       "      <td>458.04</td>\n",
       "      <td>446.28</td>\n",
       "      <td>450.07</td>\n",
       "      <td>3526368.0</td>\n",
       "      <td>NaN</td>\n",
       "      <td>NaN</td>\n",
       "    </tr>\n",
       "    <tr>\n",
       "      <th>2017-07-18</th>\n",
       "      <td>2017-07-18</td>\n",
       "      <td>-0.014815</td>\n",
       "      <td>-0.007519</td>\n",
       "      <td>451.99</td>\n",
       "      <td>453.99</td>\n",
       "      <td>448.00</td>\n",
       "      <td>452.55</td>\n",
       "      <td>3068449.0</td>\n",
       "      <td>NaN</td>\n",
       "      <td>NaN</td>\n",
       "    </tr>\n",
       "  </tbody>\n",
       "</table>\n",
       "</div>"
      ],
      "text/plain": [
       "             created_time        BI  BI_Simple    open    high     low  \\\n",
       "created_time                                                             \n",
       "2017-07-14     2017-07-14 -0.234401  -0.118644  456.25  458.76  453.05   \n",
       "2017-07-15     2017-07-15 -0.583146  -0.292308  456.25  458.76  453.05   \n",
       "2017-07-16     2017-07-16 -0.035091  -0.018182  456.25  458.76  453.05   \n",
       "2017-07-17     2017-07-17 -0.517257  -0.256098  457.04  458.04  446.28   \n",
       "2017-07-18     2017-07-18 -0.014815  -0.007519  451.99  453.99  448.00   \n",
       "\n",
       "               close     volume  BI_MA  BI_Simple_MA  \n",
       "created_time                                          \n",
       "2017-07-14    456.41  1772657.0    NaN           NaN  \n",
       "2017-07-15    456.41  1772657.0    NaN           NaN  \n",
       "2017-07-16    456.41  1772657.0    NaN           NaN  \n",
       "2017-07-17    450.07  3526368.0    NaN           NaN  \n",
       "2017-07-18    452.55  3068449.0    NaN           NaN  "
      ]
     },
     "execution_count": 31,
     "metadata": {},
     "output_type": "execute_result"
    }
   ],
   "source": [
    "df = pd.read_csv('merged_sentiment_idx2.csv')\n",
    "df['created_time']=pd.to_datetime(df['created_time'])\n",
    "df.set_index(df.created_time, inplace=True)\n",
    "#df=df.dropna()\n",
    "df.head()"
   ]
  },
  {
   "cell_type": "code",
   "execution_count": 32,
   "metadata": {
    "collapsed": false
   },
   "outputs": [],
   "source": [
    "fig, ax1 = plt.subplots()\n",
    "\n",
    "ax2 = ax1.twinx()#产生一个ax1的镜面坐标作为次坐标轴\n",
    "ax1.plot(df.index, df['BI_MA'], color='g', linestyle=':')\n",
    "ax2.plot(df.index, df['close'], color='b')\n",
    "ax1.set_xlabel('日期')\n",
    "ax1.set_ylabel('BI指标')\n",
    "ax2.set_ylabel('茅台股价')\n",
    "\n",
    "#plt.show()\n",
    "plt.savefig('茅台.png')"
   ]
  },
  {
   "cell_type": "code",
   "execution_count": 33,
   "metadata": {
    "collapsed": false
   },
   "outputs": [
    {
     "data": {
      "image/png": "[encoded data removed]",
      "text/plain": [
       "<Figure size 432x288 with 2 Axes>"
      ]
     },
     "metadata": {},
     "output_type": "display_data"
    }
   ],
   "source": [
    "plt.show()"
   ]
  },
  {
   "cell_type": "code",
   "execution_count": null,
   "metadata": {
    "collapsed": true
   },
   "outputs": [],
   "source": []
  }
 ],
 "metadata": {
  "anaconda-cloud": {},
  "kernelspec": {
   "display_name": "Python [default]",
   "language": "python",
   "name": "python3"
  },
  "language_info": {
   "codemirror_mode": {
    "name": "ipython",
    "version": 3
   },
   "file_extension": ".py",
   "mimetype": "text/x-python",
   "name": "python",
   "nbconvert_exporter": "python",
   "pygments_lexer": "ipython3",
   "version": "3.5.2"
  },
  "toc": {
   "base_numbering": 1,
   "nav_menu": {},
   "number_sections": true,
   "sideBar": true,
   "skip_h1_title": false,
   "title_cell": "Table of Contents",
   "title_sidebar": "Contents",
   "toc_cell": false,
   "toc_position": {},
   "toc_section_display": true,
   "toc_window_display": false
  }
 },
 "nbformat": 4,
 "nbformat_minor": 1
}
